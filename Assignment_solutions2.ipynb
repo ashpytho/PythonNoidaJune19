{
 "cells": [
  {
   "cell_type": "code",
   "execution_count": 1,
   "metadata": {},
   "outputs": [
    {
     "name": "stdout",
     "output_type": "stream",
     "text": [
      "String length :  6\n"
     ]
    }
   ],
   "source": [
    "#finding length of string using for loop\n",
    "#ques-is string iterable\n",
    "#ans-yaaaaasssss!!\n",
    "a='ashish'\n",
    "count=0\n",
    "for i in a:\n",
    "    count+=1\n",
    "print('String length : ',count)"
   ]
  },
  {
   "cell_type": "code",
   "execution_count": 6,
   "metadata": {},
   "outputs": [
    {
     "name": "stdout",
     "output_type": "stream",
     "text": [
      "Enter String 1 : hello\n",
      "Enter String 2 : world\n",
      "helloworld\n"
     ]
    }
   ],
   "source": [
    "#takes 2 string prints concatenation\n",
    "st1=input('Enter String 1 : ')\n",
    "st2=input('Enter String 2 : ')\n",
    "print(st1+st2)"
   ]
  },
  {
   "cell_type": "code",
   "execution_count": 9,
   "metadata": {},
   "outputs": [
    {
     "name": "stdout",
     "output_type": "stream",
     "text": [
      "Enter a string : ashish ashish ashish ashish 12 3 4 5\n",
      "No of Digits:  5 No of letters :  24\n"
     ]
    }
   ],
   "source": [
    "#count no of letters and string without isnum() and isdigit()\n",
    "st=input('Enter a string : ')\n",
    "dig=0\n",
    "let=0\n",
    "for i in st:\n",
    "    try:\n",
    "        int(i)\n",
    "        dig+=1\n",
    "    except:\n",
    "        if i!=' ':\n",
    "            let+=1\n",
    "print('No of Digits: ',dig,' No of letters : ',let)"
   ]
  },
  {
   "cell_type": "code",
   "execution_count": 17,
   "metadata": {},
   "outputs": [
    {
     "name": "stdout",
     "output_type": "stream",
     "text": [
      "Enter a string : ashish\n",
      "ASHISH"
     ]
    }
   ],
   "source": [
    "#Study the concept of Ascii codes \n",
    "st=input('Enter a string : ')\n",
    "for i in st:\n",
    "    a=ord(i)\n",
    "    a-=32\n",
    "    print(chr(a),end='')"
   ]
  },
  {
   "cell_type": "code",
   "execution_count": 24,
   "metadata": {},
   "outputs": [
    {
     "name": "stdout",
     "output_type": "stream",
     "text": [
      "Enter a string : ASHISH gupta \n",
      "Total Upper Case :  6 Total lower case :  5\n"
     ]
    }
   ],
   "source": [
    "#again study concept of ASCII codes and also about ord() function\n",
    "st=input('Enter a string : ')\n",
    "upp=0\n",
    "low=0\n",
    "for i in st:\n",
    "    if ord(i)>=97 and ord(i)<=122:\n",
    "        low+=1\n",
    "    elif ord(i)>=65 and ord(i)<=90:\n",
    "        upp+=1\n",
    "    else:\n",
    "        pass\n",
    "print('Total Upper Case : ',upp,'Total lower case : ',low)\n"
   ]
  },
  {
   "cell_type": "code",
   "execution_count": 26,
   "metadata": {},
   "outputs": [
    {
     "name": "stdout",
     "output_type": "stream",
     "text": [
      "Enter a string : aShiSh Gupta\n",
      "AsHIsH gUPTA"
     ]
    }
   ],
   "source": [
    "#upper to lower case\n",
    "st=input('Enter a string : ')\n",
    "for i in st:\n",
    "    if ord(i)>=97 and ord(i)<=122:\n",
    "        print(i.upper(),end='')\n",
    "    elif ord(i)>=65 and ord(i)<=90:\n",
    "        print(i.lower(),end='')\n",
    "    else:\n",
    "        print(i,end='')\n",
    "   "
   ]
  },
  {
   "cell_type": "code",
   "execution_count": 27,
   "metadata": {},
   "outputs": [
    {
     "name": "stdout",
     "output_type": "stream",
     "text": [
      "Enter a string : Ashish Ashish gupta gupta\n",
      "Enter a string to search : i\n",
      "Total Occurence:  2\n"
     ]
    }
   ],
   "source": [
    "st=input('Enter a string : ')\n",
    "sub=input('Enter a string to search : ')\n",
    "count=0\n",
    "for i in st:\n",
    "    if i==sub:\n",
    "        count+=1\n",
    "print('Total Occurence: ',count)\n"
   ]
  },
  {
   "cell_type": "code",
   "execution_count": 30,
   "metadata": {},
   "outputs": [
    {
     "name": "stdout",
     "output_type": "stream",
     "text": [
      "Enter a string : assa\n",
      "yes a palindrome\n"
     ]
    }
   ],
   "source": [
    "st=input('Enter a string : ')\n",
    "if st[::1]==st[::-1]:\n",
    "    print('yes a palindrome')\n",
    "else:\n",
    "    print('not a palindrome')"
   ]
  },
  {
   "cell_type": "code",
   "execution_count": 45,
   "metadata": {},
   "outputs": [
    {
     "data": {
      "text/plain": [
       "'asrish'"
      ]
     },
     "execution_count": 45,
     "metadata": {},
     "output_type": "execute_result"
    }
   ],
   "source": [
    "def replace(st,index,st_r):\n",
    "    st=list(st)\n",
    "    st[index-1]=st_r\n",
    "    return st\n",
    "st=replace('ashish',3,'r')\n",
    "''.join(st)"
   ]
  },
  {
   "cell_type": "code",
   "execution_count": 4,
   "metadata": {},
   "outputs": [],
   "source": [
    "# code correct but not working\n",
    "# def occur(st,sub_str):\n",
    "#     count=0\n",
    "#     a=len(st)-(len(sub_str)-1)\n",
    "#     for i in range(a):\n",
    "#         if st[i:i+(len(sub_str)-1)]==sub_str:\n",
    "#             print(count)\n",
    "#             count+=1\n",
    "#     print(count)\n",
    "        "
   ]
  },
  {
   "cell_type": "code",
   "execution_count": 3,
   "metadata": {},
   "outputs": [
    {
     "name": "stdout",
     "output_type": "stream",
     "text": [
      "Enter a Number in Decimal: 45\n",
      "101101\n",
      "Enter count of 1: 2\n",
      "True\n"
     ]
    }
   ],
   "source": [
    "#check for given number of 1's in a binary\n",
    "a=int(input('Enter a Number in Decimal: '))\n",
    "arr=[]\n",
    "while a!=0:\n",
    "    arr.append(a%2)\n",
    "    a=a//2\n",
    "arr=arr[::-1]\n",
    "arr=[str(i) for i in arr]\n",
    "arr=''.join(arr)\n",
    "print(arr)\n",
    "a=int(input('Enter count of 1: '))\n",
    "a='1'*a\n",
    "if arr.count(a)>=1:\n",
    "    print(True)\n",
    "else:\n",
    "    print(False)"
   ]
  },
  {
   "cell_type": "code",
   "execution_count": 14,
   "metadata": {},
   "outputs": [
    {
     "name": "stdout",
     "output_type": "stream",
     "text": [
      "c\n",
      "u\n"
     ]
    }
   ],
   "source": [
    "#count odd one out\n",
    "a='aaddcccvvssuuubb'\n",
    "a=list(a)\n",
    "b=set(a)\n",
    "for i in b:\n",
    "    if a.count(i)%2!=0:\n",
    "        print(i)"
   ]
  },
  {
   "cell_type": "code",
   "execution_count": 33,
   "metadata": {},
   "outputs": [
    {
     "name": "stdout",
     "output_type": "stream",
     "text": [
      "Enter comma seperated passwords : As9@#ash\n",
      "Great Password \n"
     ]
    }
   ],
   "source": [
    "a=input('Enter comma seperated passwords : ').split(',')\n",
    "\n",
    "for i in a:\n",
    "    small=0\n",
    "    big=0\n",
    "    num=0\n",
    "    char=0\n",
    "    b=[x for x in i]\n",
    "    if len(b)>=6 and len(b)<=12:\n",
    "        for x in b:\n",
    "            if ord(x) in range(97,123):\n",
    "                small=1\n",
    "        for x in b:\n",
    "            if ord(x) in range(48,58):\n",
    "                num=1\n",
    "        for x in b:\n",
    "            if ord(x) in range(65,91):\n",
    "                big=1\n",
    "        for x in b:\n",
    "            if ord(x) in [35,36,64]:\n",
    "                char=1\n",
    "    if small==1 and num==1 and big==1 and char==1:\n",
    "        print('Great Password ')\n",
    "    else:\n",
    "        print('password not satisfiable')\n",
    "    \n",
    "        \n",
    "            \n",
    "            \n"
   ]
  },
  {
   "cell_type": "code",
   "execution_count": null,
   "metadata": {},
   "outputs": [],
   "source": []
  },
  {
   "cell_type": "code",
   "execution_count": null,
   "metadata": {},
   "outputs": [],
   "source": []
  },
  {
   "cell_type": "code",
   "execution_count": null,
   "metadata": {},
   "outputs": [],
   "source": []
  }
 ],
 "metadata": {
  "kernelspec": {
   "display_name": "Python 3",
   "language": "python",
   "name": "python3"
  },
  "language_info": {
   "codemirror_mode": {
    "name": "ipython",
    "version": 3
   },
   "file_extension": ".py",
   "mimetype": "text/x-python",
   "name": "python",
   "nbconvert_exporter": "python",
   "pygments_lexer": "ipython3",
   "version": "3.6.2"
  }
 },
 "nbformat": 4,
 "nbformat_minor": 2
}
