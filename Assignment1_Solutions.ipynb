{
 "cells": [
  {
   "cell_type": "code",
   "execution_count": 3,
   "metadata": {},
   "outputs": [
    {
     "name": "stdout",
     "output_type": "stream",
     "text": [
      "old a =  9 b =  10\n",
      "new a =  10 b =  9\n"
     ]
    }
   ],
   "source": [
    "#swapping without using third variable\n",
    "a=9\n",
    "b=10\n",
    "print(\"old a = \",a,\"b = \",b)               \n",
    "a=a+b                                       #a=19\n",
    "b=a-b                                       #b=19-10=9\n",
    "a=a-b                                       #a=19-9=10\n",
    "print(\"new a = \",a,\"b = \",b)"
   ]
  },
  {
   "cell_type": "code",
   "execution_count": 4,
   "metadata": {},
   "outputs": [
    {
     "name": "stdout",
     "output_type": "stream",
     "text": [
      "Enter A number12\n",
      "Number is  Even\n"
     ]
    }
   ],
   "source": [
    "num=int(input('Enter A number'))\n",
    "if num%2==0:                             #an even number when divided by 2 gives 0 remainder\n",
    "    print(\"Number is  Even\")\n",
    "else:\n",
    "    print(\"Number is odd\")"
   ]
  },
  {
   "cell_type": "code",
   "execution_count": 7,
   "metadata": {},
   "outputs": [
    {
     "name": "stdout",
     "output_type": "stream",
     "text": [
      "Enter A number 36\n",
      "6\n"
     ]
    }
   ],
   "source": [
    "import math\n",
    "num=int(input('Enter A number '))\n",
    "print(int(math.sqrt(num)))"
   ]
  },
  {
   "cell_type": "code",
   "execution_count": 13,
   "metadata": {},
   "outputs": [
    {
     "name": "stdout",
     "output_type": "stream",
     "text": [
      "Enter the limit3\n",
      "1\n",
      "2\n",
      "3\n",
      "3\n",
      "2\n",
      "1\n"
     ]
    }
   ],
   "source": [
    "num=int(input('Enter the limit'))\n",
    "i=1\n",
    "while (i<=num):                       #printing in ascending order\n",
    "    print(i)\n",
    "    i+=1\n",
    "i-=1                                 #i gets incremented for num+1 times\n",
    "while (i>0):                         #printing in descending order\n",
    "    print(i)\n",
    "    i-=1"
   ]
  },
  {
   "cell_type": "code",
   "execution_count": 16,
   "metadata": {},
   "outputs": [
    {
     "name": "stdout",
     "output_type": "stream",
     "text": [
      "Enter Radius of sphere2\n",
      "33.49333333333333\n"
     ]
    }
   ],
   "source": [
    "rad=float(input('Enter Radius of sphere'))\n",
    "area=(4/3)*3.14*(rad**3)                #area=4/3 * pi * r^3\n",
    "print(area)"
   ]
  },
  {
   "cell_type": "code",
   "execution_count": 8,
   "metadata": {},
   "outputs": [
    {
     "name": "stdout",
     "output_type": "stream",
     "text": [
      "EVEN NUMBERS ARE :  [2, 4, 6, 8, 10, 12, 14, 16, 18, 20, 22, 24, 26, 28, 30, 32, 34, 36, 38, 40, 42, 44, 46, 48, 50, 52, 54, 56, 58, 60, 62, 64, 66, 68, 70, 72, 74, 76, 78, 80, 82, 84, 86, 88, 90, 92, 94, 96, 98, 100]\n",
      "ODD NUMBERS ARE:  [1, 3, 5, 7, 9, 11, 13, 15, 17, 19, 21, 23, 25, 27, 29, 31, 33, 35, 37, 39, 41, 43, 45, 47, 49, 51, 53, 55, 57, 59, 61, 63, 65, 67, 69, 71, 73, 75, 77, 79, 81, 83, 85, 87, 89, 91, 93, 95, 97, 99]\n"
     ]
    }
   ],
   "source": [
    "i=1   #should start from 1 \n",
    "x=0\n",
    "y=0\n",
    "a=[]\n",
    "b=[]\n",
    "while (i<=100):                         #go upto 100\n",
    "    if i%2==0:\n",
    "        a.append(i)     #for even numbers\n",
    "    else:\n",
    "        b.append(i)    #for odd numbers\n",
    "    i+=1\n",
    "print('EVEN NUMBERS ARE : ',a)\n",
    "print('ODD NUMBERS ARE: ',b)\n",
    "\n",
    "        \n",
    "        "
   ]
  },
  {
   "cell_type": "code",
   "execution_count": 22,
   "metadata": {},
   "outputs": [
    {
     "name": "stdout",
     "output_type": "stream",
     "text": [
      "Enter A 5\n",
      "Enter B -4\n",
      "Enter C -2\n",
      "Roots of equations are  : 1.1483314773547881 -0.34833147735478825\n"
     ]
    }
   ],
   "source": [
    "import math                  #to include square root function\n",
    "a=float(input('Enter A '))\n",
    "b=float(input('Enter B '))\n",
    "c=float(input('Enter C '))\n",
    "d=(b**2)-4*a*c               #calculating value of D\n",
    "r1=((-b+math.sqrt(d))/(2*a)) #calculating the first root\n",
    "r2=((-b-math.sqrt(d))/(2*a)) #calculating the second root\n",
    "print(\"Roots of equations are  :\",r1,r2)"
   ]
  },
  {
   "cell_type": "code",
   "execution_count": 25,
   "metadata": {},
   "outputs": [
    {
     "name": "stdout",
     "output_type": "stream",
     "text": [
      "Enter A number 56489\n",
      "5\n"
     ]
    }
   ],
   "source": [
    "num=input('Enter A number ')         #number comes in form of string\n",
    "print(len(num))                      #length of number is length of string"
   ]
  },
  {
   "cell_type": "code",
   "execution_count": null,
   "metadata": {},
   "outputs": [],
   "source": [
    "num=int(input('Enter A number '))\n",
    "if (num==1):\n",
    "    print(True)"
   ]
  },
  {
   "cell_type": "code",
   "execution_count": 12,
   "metadata": {},
   "outputs": [
    {
     "name": "stdout",
     "output_type": "stream",
     "text": [
      "576\n",
      "57\n",
      "5\n",
      "0\n"
     ]
    },
    {
     "data": {
      "text/plain": [
       "4"
      ]
     },
     "execution_count": 12,
     "metadata": {},
     "output_type": "execute_result"
    }
   ],
   "source": [
    "#printing the no of digits in a number\n",
    "def count_digit(num):\n",
    "    count=0\n",
    "    while num!=0:\n",
    "        count+=1\n",
    "        num=num//10\n",
    "        print(num)\n",
    "    return count\n",
    "\n",
    "count_digit(5768)\n",
    "        "
   ]
  },
  {
   "cell_type": "code",
   "execution_count": 23,
   "metadata": {},
   "outputs": [
    {
     "name": "stdout",
     "output_type": "stream",
     "text": [
      "Number is prime\n"
     ]
    }
   ],
   "source": [
    "def prime(num):\n",
    "    flag=1\n",
    "    for i in range(2,(num//2)+1):\n",
    "        if num%i==0:\n",
    "            flag=0\n",
    "            break\n",
    "    return flag\n",
    "a=prime(2)\n",
    "if(a==1):\n",
    "    print('Number is prime')\n",
    "else:\n",
    "    print('number is not prime')\n",
    "        "
   ]
  },
  {
   "cell_type": "code",
   "execution_count": 30,
   "metadata": {},
   "outputs": [
    {
     "name": "stdout",
     "output_type": "stream",
     "text": [
      "3 + 5 + 6 + 9 + 10 + 12 + 15 +  = 60\n"
     ]
    }
   ],
   "source": [
    "def sum_mul(num):\n",
    "    sum_=0\n",
    "    for i in range(1,num+1):\n",
    "        if i%3==0 or i%5==0:\n",
    "            print(i,end=' + ')\n",
    "            sum_+=i\n",
    "    print(\" =\",sum_)\n",
    "sum_mul(15)"
   ]
  },
  {
   "cell_type": "code",
   "execution_count": 32,
   "metadata": {},
   "outputs": [
    {
     "name": "stdout",
     "output_type": "stream",
     "text": [
      "Enter a number45\n",
      "1.PRINT SUM : \n",
      "2.PRINT PRODUCT : \n",
      " Choose one ->> 2\n",
      "PRODUCT OF 1..45 is 119622220865480194561963161495657715064383733760000000000\n"
     ]
    }
   ],
   "source": [
    "def sum_(n):\n",
    "    sum1=0\n",
    "    for i in range(1,n+1):\n",
    "        sum1+=i\n",
    "    print('PRODUCT OF 1..{} is {}'.format(n,sum1))\n",
    "def mul(n):\n",
    "    pro=1\n",
    "    for i in range(1,n+1):\n",
    "        pro*=i\n",
    "    print('PRODUCT OF 1..{} is {}'.format(n,pro))\n",
    "    \n",
    "\n",
    "num=int(input('Enter a number'))\n",
    "print('1.PRINT SUM : ')\n",
    "print('2.PRINT PRODUCT : ')\n",
    "option=int(input(' Choose one ->> '))\n",
    "if option==1:\n",
    "    sum_(num)\n",
    "elif option==2:\n",
    "    mul(num)\n",
    "else:\n",
    "    print('ERROR->> Number entered is incorrect!!!!')"
   ]
  },
  {
   "cell_type": "code",
   "execution_count": 34,
   "metadata": {},
   "outputs": [
    {
     "name": "stdout",
     "output_type": "stream",
     "text": [
      "2002 2009 2016 2023 2037 2044 2051 2058 2072 2079 2086 2093 2107 2114 2121 2128 2142 2149 2156 2163 2177 2184 2191 2198 2212 2219 2226 2233 2247 2254 2261 2268 2282 2289 2296 2303 2317 2324 2331 2338 2352 2359 2366 2373 2387 2394 2401 2408 2422 2429 2436 2443 2457 2464 2471 2478 2492 2499 2506 2513 2527 2534 2541 2548 2562 2569 2576 2583 2597 2604 2611 2618 2632 2639 2646 2653 2667 2674 2681 2688 2702 2709 2716 2723 2737 2744 2751 2758 2772 2779 2786 2793 2807 2814 2821 2828 2842 2849 2856 2863 2877 2884 2891 2898 2912 2919 2926 2933 2947 2954 2961 2968 2982 2989 2996 3003 3017 3024 3031 3038 3052 3059 3066 3073 3087 3094 3101 3108 3122 3129 3136 3143 3157 3164 3171 3178 3192 3199 "
     ]
    }
   ],
   "source": [
    "def mul_7():\n",
    "    for i in range(2000,3200):\n",
    "        if i%7==0 and i%5!=0:\n",
    "            print(i,end=' ')\n",
    "mul_7()          "
   ]
  },
  {
   "cell_type": "code",
   "execution_count": 37,
   "metadata": {},
   "outputs": [
    {
     "name": "stdout",
     "output_type": "stream",
     "text": [
      "Sum of squares->> 338350 and Square of sum->> 25502500 \n"
     ]
    }
   ],
   "source": [
    "sum1=0\n",
    "sum2=0\n",
    "for i in range(1,101):\n",
    "    sum1+=i**2\n",
    "    sum2+=i\n",
    "print('Sum of squares->> {} and Square of sum->> {} '.format(sum1,sum2**2))"
   ]
  },
  {
   "cell_type": "code",
   "execution_count": 3,
   "metadata": {},
   "outputs": [
    {
     "name": "stdout",
     "output_type": "stream",
     "text": [
      "Enter Numbers : 1\n",
      "1\n",
      "Enter Numbers : 2\n",
      "2\n",
      "Enter Numbers : 44\n",
      "44\n",
      "Enter Numbers : 55\n",
      "55\n",
      "Enter Numbers : 3\n",
      "3\n",
      "Enter Numbers : 4\n",
      "4\n",
      "Enter Numbers : 3\n",
      "3\n",
      "Enter Numbers : s\n",
      "!!!Error!!!!\n",
      "TOTAL NUMBERS ENTERED 7 SUM 112 AVERAGE 16\n"
     ]
    }
   ],
   "source": [
    "count=0\n",
    "sum_=0\n",
    "a=0\n",
    "while a!='stop':\n",
    "    try:\n",
    "        a=int(input('Enter Numbers : '))\n",
    "        print(a)\n",
    "        count+=1\n",
    "        sum_+=a\n",
    "    except:\n",
    "        print(\"!!!Error!!!!\")\n",
    "        print('TOTAL NUMBERS ENTERED {} SUM {} AVERAGE {}'.format(count,sum_,(sum_//count)))\n",
    "        break\n"
   ]
  },
  {
   "cell_type": "code",
   "execution_count": 4,
   "metadata": {},
   "outputs": [
    {
     "name": "stdout",
     "output_type": "stream",
     "text": [
      "Enter a number : 13\n",
      "2\n",
      "3\n",
      "4\n",
      "5\n",
      "7\n",
      "11\n",
      "13\n"
     ]
    }
   ],
   "source": [
    "num=int(input('Enter a number : '))\n",
    "for i in range(2,num+1):\n",
    "    flag=0\n",
    "    for j in range(2,i//2):\n",
    "        if (i%j==0):\n",
    "            flag=1\n",
    "            break\n",
    "    if flag==0:\n",
    "        print(i)\n",
    "\n",
    "        "
   ]
  },
  {
   "cell_type": "code",
   "execution_count": 5,
   "metadata": {},
   "outputs": [
    {
     "name": "stdout",
     "output_type": "stream",
     "text": [
      "720\n"
     ]
    }
   ],
   "source": [
    "def fac(a):    #fucntion to print factoril of a number recursively\n",
    "    if a==0 or a==1:                #base case as 1! or 0! = 1\n",
    "        return 1\n",
    "    else:\n",
    "        return a * fac(a-1)          # for e.g 5! = 4! *5\n",
    "print(fac(6))"
   ]
  },
  {
   "cell_type": "code",
   "execution_count": 14,
   "metadata": {},
   "outputs": [
    {
     "name": "stdout",
     "output_type": "stream",
     "text": [
      "0\n",
      "1\n",
      "1\n",
      "2\n",
      "3\n",
      "5\n",
      "8\n",
      "13\n",
      "21\n",
      "34\n",
      "55\n",
      "89\n"
     ]
    }
   ],
   "source": [
    "def fibo(n):\n",
    "    if n==0 or n==1:\n",
    "        return n\n",
    "    else:\n",
    "        return fibo(n-2) + fibo(n-1)\n",
    "for i in range(12):\n",
    "    print(fibo(i))"
   ]
  },
  {
   "cell_type": "code",
   "execution_count": null,
   "metadata": {},
   "outputs": [],
   "source": [
    "a=[]     #list to store the factor\n",
    "i=2      \n",
    "num1=13\n",
    "num2=17\n",
    "while num1!=1 and num2!=1:      #until both the numbers become 1\n",
    "    i=2\n",
    "    while num1%i==0 or  num2%i==0:      #if any of the number gets perfectly divided by i then execute\n",
    "        print(num1,num2)\n",
    "        if num1%i==0:\n",
    "            num1//=i\n",
    "        if num2%i==0:\n",
    "            num2//=i\n",
    "        a.append(i)    \n",
    "        i+=1\n",
    "        \n",
    "print(a)\n",
    "        \n",
    "        \n",
    "    "
   ]
  },
  {
   "cell_type": "code",
   "execution_count": 7,
   "metadata": {},
   "outputs": [
    {
     "name": "stdout",
     "output_type": "stream",
     "text": [
      "1000\n"
     ]
    }
   ],
   "source": [
    "#RECURSIVE WAY TO CALCULATE LCM OF TWO NUMBERS\n",
    "#BY ASHISH GUPTA\n",
    "\n",
    "a=[]                                                           #initalized my list as empty\n",
    "\n",
    "def lcm(num1,num2):                                            #recursive way to computer LCM\n",
    "    if num1==1 and num2==1:                                    #base case when both numbers becomes 1\n",
    "        return\n",
    "    else:\n",
    "        for i in range(2,num1+1 if num1> num2 else num2+1):         #loop till find a no. that divides both the number\n",
    "            if num1%i==0 or  num2%i==0:                             #i divides both the numbers or any one of them\n",
    "                if num1%i==0:\n",
    "                    num1//=i\n",
    "                if num2%i==0:\n",
    "                    num2//=i\n",
    "                a.append(i)                                         #append the factors in a list                                      \n",
    "            else:\n",
    "                continue\n",
    "        lcm(num1,num2)\n",
    "            \n",
    "            \n",
    "lcm(1000,10)\n",
    "\n",
    "lcm_final=1\n",
    "for i in a:\n",
    "    lcm_final*=i                                                #multiplying the data in my list\n",
    "print(lcm_final)\n",
    "    "
   ]
  },
  {
   "cell_type": "code",
   "execution_count": 9,
   "metadata": {},
   "outputs": [
    {
     "name": "stdout",
     "output_type": "stream",
     "text": [
      "ENTER A NUMBER : 456\n",
      "FACTORS OF 456 ARE [1, 2, 3, 4, 6, 8, 12, 19, 24, 38, 57, 76, 114, 152, 228, 456]\n"
     ]
    }
   ],
   "source": [
    "#finding factors of a numbers\n",
    "a=[]\n",
    "num=int(input('ENTER A NUMBER : '))\n",
    "for i in range(1,num+1):\n",
    "    if num%i==0:\n",
    "        a.append(i)\n",
    "print('FACTORS OF {} ARE {}'.format(num,a))"
   ]
  },
  {
   "cell_type": "code",
   "execution_count": 12,
   "metadata": {},
   "outputs": [
    {
     "name": "stdout",
     "output_type": "stream",
     "text": [
      "* \n",
      "* * \n",
      "* * * \n",
      "* * * * \n",
      "* * * * * \n"
     ]
    }
   ],
   "source": [
    "for i in range(1,6):\n",
    "    for j in range(0,i):\n",
    "        print('*',end=' ')\n",
    "    print()"
   ]
  },
  {
   "cell_type": "code",
   "execution_count": 13,
   "metadata": {},
   "outputs": [
    {
     "name": "stdout",
     "output_type": "stream",
     "text": [
      "* * * * * * \n",
      "* * * * * \n",
      "* * * * \n",
      "* * * \n",
      "* * \n",
      "* \n"
     ]
    }
   ],
   "source": [
    "num=6\n",
    "while num!=0:\n",
    "    print('* '*num)\n",
    "    num-=1\n",
    "    "
   ]
  },
  {
   "cell_type": "code",
   "execution_count": 16,
   "metadata": {},
   "outputs": [
    {
     "name": "stdout",
     "output_type": "stream",
     "text": [
      "1   \n",
      "2   2   \n",
      "3   3   3   \n",
      "4   4   4   4   \n",
      "5   5   5   5   5   \n",
      "6   6   6   6   6   6   \n"
     ]
    }
   ],
   "source": [
    "for i in range(1,7):\n",
    "    for j in range(0,i):\n",
    "        print(i,' ',end=\" \")\n",
    "    print()"
   ]
  },
  {
   "cell_type": "code",
   "execution_count": 20,
   "metadata": {},
   "outputs": [
    {
     "name": "stdout",
     "output_type": "stream",
     "text": [
      "    * \n",
      "   * * \n",
      "  * * * \n",
      " * * * * \n"
     ]
    }
   ],
   "source": [
    "n=4\n",
    "for i in range(1,n+1):\n",
    "    print(' '*(n-i),'* '*i)"
   ]
  },
  {
   "cell_type": "code",
   "execution_count": 27,
   "metadata": {},
   "outputs": [
    {
     "name": "stdout",
     "output_type": "stream",
     "text": [
      "1 \n",
      "2 3 \n",
      "4 5 6 \n",
      "7 8 9 10 \n",
      "11 12 13 14 15 \n",
      "16 17 18 19 20 21 \n",
      "22 23 24 25 26 27 28 \n",
      "29 30 31 32 33 34 35 36 \n",
      "37 38 39 40 41 42 43 44 45 \n"
     ]
    }
   ],
   "source": [
    "counter=1\n",
    "for i in range(1,10):\n",
    "    for j in range(1,i+1):\n",
    "        print(counter,end=' ')\n",
    "        counter+=1\n",
    "    print()"
   ]
  },
  {
   "cell_type": "code",
   "execution_count": 40,
   "metadata": {},
   "outputs": [
    {
     "name": "stdout",
     "output_type": "stream",
     "text": [
      "A \n",
      "B C \n",
      "D E F \n",
      "G H I J \n"
     ]
    }
   ],
   "source": [
    "counter=65\n",
    "for i in range(1,5):\n",
    "    for j in range(1,i+1):\n",
    "        print(chr(counter),end=' ')\n",
    "        counter+=1\n",
    "    print()"
   ]
  },
  {
   "cell_type": "code",
   "execution_count": 39,
   "metadata": {},
   "outputs": [
    {
     "data": {
      "text/plain": [
       "65"
      ]
     },
     "execution_count": 39,
     "metadata": {},
     "output_type": "execute_result"
    }
   ],
   "source": [
    "ord('A')"
   ]
  },
  {
   "cell_type": "code",
   "execution_count": null,
   "metadata": {},
   "outputs": [],
   "source": []
  },
  {
   "cell_type": "code",
   "execution_count": null,
   "metadata": {},
   "outputs": [],
   "source": []
  },
  {
   "cell_type": "code",
   "execution_count": null,
   "metadata": {},
   "outputs": [],
   "source": []
  }
 ],
 "metadata": {
  "kernelspec": {
   "display_name": "Python 3",
   "language": "python",
   "name": "python3"
  },
  "language_info": {
   "codemirror_mode": {
    "name": "ipython",
    "version": 3
   },
   "file_extension": ".py",
   "mimetype": "text/x-python",
   "name": "python",
   "nbconvert_exporter": "python",
   "pygments_lexer": "ipython3",
   "version": "3.6.2"
  }
 },
 "nbformat": 4,
 "nbformat_minor": 2
}
